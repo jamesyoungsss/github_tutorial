{
  "nbformat": 4,
  "nbformat_minor": 0,
  "metadata": {
    "colab": {
      "name": "Untitled1.ipynb",
      "version": "0.3.2",
      "provenance": [],
      "include_colab_link": true
    },
    "kernelspec": {
      "name": "python3",
      "display_name": "Python 3"
    }
  },
  "cells": [
    {
      "cell_type": "markdown",
      "metadata": {
        "id": "view-in-github",
        "colab_type": "text"
      },
      "source": [
        "[View in Colaboratory](https://colab.research.google.com/github/jamesyoungsss/github_tutorial/blob/master/inception_tutorial.ipynb)"
      ]
    },
    {
      "metadata": {
        "id": "UJlfoFmoFuoO",
        "colab_type": "code",
        "colab": {
          "base_uri": "https://localhost:8080/",
          "height": 34
        },
        "outputId": "8fabcc55-6593-4db4-e1b7-69275cddea7c"
      },
      "cell_type": "code",
      "source": [
        "pwd"
      ],
      "execution_count": 1,
      "outputs": [
        {
          "output_type": "execute_result",
          "data": {
            "text/plain": [
              "'/content'"
            ]
          },
          "metadata": {
            "tags": []
          },
          "execution_count": 1
        }
      ]
    },
    {
      "metadata": {
        "id": "1SHMEYIlF9-N",
        "colab_type": "code",
        "colab": {
          "base_uri": "https://localhost:8080/",
          "height": 140
        },
        "outputId": "0e2c4079-82a8-4409-e83c-e1fecc29242b"
      },
      "cell_type": "code",
      "source": [
        "!git clone https://github.com/tensorflow/models.git"
      ],
      "execution_count": 2,
      "outputs": [
        {
          "output_type": "stream",
          "text": [
            "Cloning into 'models'...\n",
            "remote: Counting objects: 18215, done.\u001b[K\n",
            "remote: Compressing objects: 100% (28/28), done.\u001b[K\n",
            "remote: Total 18215 (delta 6), reused 24 (delta 4), pack-reused 18181\u001b[K\n",
            "Receiving objects: 100% (18215/18215), 470.55 MiB | 38.03 MiB/s, done.\n",
            "Resolving deltas: 100% (10749/10749), done.\n",
            "Checking out files: 100% (2362/2362), done.\n"
          ],
          "name": "stdout"
        }
      ]
    },
    {
      "metadata": {
        "id": "dJOSVLhBGF17",
        "colab_type": "code",
        "colab": {
          "base_uri": "https://localhost:8080/",
          "height": 34
        },
        "outputId": "05afb2bc-7bad-46fa-90ac-a2be39f63075"
      },
      "cell_type": "code",
      "source": [
        "ls"
      ],
      "execution_count": 3,
      "outputs": [
        {
          "output_type": "stream",
          "text": [
            "\u001b[0m\u001b[01;34mdatalab\u001b[0m/  \u001b[01;34mmodels\u001b[0m/\r\n"
          ],
          "name": "stdout"
        }
      ]
    },
    {
      "metadata": {
        "id": "tEjJtaLUGO0c",
        "colab_type": "code",
        "colab": {
          "base_uri": "https://localhost:8080/",
          "height": 34
        },
        "outputId": "2623f78b-f271-4bb0-91d1-163ee47c10fd"
      },
      "cell_type": "code",
      "source": [
        "cd models/tutorials/image/imagenet"
      ],
      "execution_count": 5,
      "outputs": [
        {
          "output_type": "stream",
          "text": [
            "/content/models/tutorials/image/imagenet\n"
          ],
          "name": "stdout"
        }
      ]
    },
    {
      "metadata": {
        "id": "KaUSB08hGdCD",
        "colab_type": "code",
        "colab": {
          "base_uri": "https://localhost:8080/",
          "height": 177
        },
        "outputId": "dd857698-c3f1-4dd0-c543-c59446f41c3c"
      },
      "cell_type": "code",
      "source": [
        "!python classify_image.py"
      ],
      "execution_count": 6,
      "outputs": [
        {
          "output_type": "stream",
          "text": [
            ">> Downloading inception-2015-12-05.tgz 100.0%\n",
            "Successfully downloaded inception-2015-12-05.tgz 88931400 bytes.\n",
            "2018-06-23 10:05:09.066074: W tensorflow/core/framework/op_def_util.cc:346] Op BatchNormWithGlobalNormalization is deprecated. It will cease to work in GraphDef version 9. Use tf.nn.batch_normalization().\n",
            "giant panda, panda, panda bear, coon bear, Ailuropoda melanoleuca (score = 0.89107)\n",
            "indri, indris, Indri indri, Indri brevicaudatus (score = 0.00779)\n",
            "lesser panda, red panda, panda, bear cat, cat bear, Ailurus fulgens (score = 0.00296)\n",
            "custard apple (score = 0.00147)\n",
            "earthstar (score = 0.00117)\n"
          ],
          "name": "stdout"
        }
      ]
    },
    {
      "metadata": {
        "id": "AxHFrV7nGqZL",
        "colab_type": "code",
        "colab": {
          "base_uri": "https://localhost:8080/",
          "height": 34
        },
        "outputId": "d48c1301-425a-488a-cf85-385c0c546de3"
      },
      "cell_type": "code",
      "source": [
        "ls"
      ],
      "execution_count": 7,
      "outputs": [
        {
          "output_type": "stream",
          "text": [
            "BUILD  classify_image.py\r\n"
          ],
          "name": "stdout"
        }
      ]
    },
    {
      "metadata": {
        "id": "vICoQ9paHD1z",
        "colab_type": "code",
        "colab": {
          "base_uri": "https://localhost:8080/",
          "height": 34
        },
        "outputId": "72b965a1-fac9-4310-daa1-f0b6dcc44234"
      },
      "cell_type": "code",
      "source": [
        "!find / -name inception-2015-12-05.tgz"
      ],
      "execution_count": 13,
      "outputs": [
        {
          "output_type": "stream",
          "text": [
            "/tmp/imagenet/inception-2015-12-05.tgz\r\n"
          ],
          "name": "stdout"
        }
      ]
    },
    {
      "metadata": {
        "id": "wbBGiIfCHurC",
        "colab_type": "code",
        "colab": {}
      },
      "cell_type": "code",
      "source": [
        ""
      ],
      "execution_count": 0,
      "outputs": []
    }
  ]
}